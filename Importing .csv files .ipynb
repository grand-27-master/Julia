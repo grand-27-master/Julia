{
 "cells": [
  {
   "cell_type": "code",
   "execution_count": 1,
   "metadata": {},
   "outputs": [
    {
     "name": "stderr",
     "output_type": "stream",
     "text": [
      "┌ Info: Precompiling CSV [336ed68f-0bac-5ca0-87d4-7b16caf5d00b]\n",
      "└ @ Base loading.jl:1278\n"
     ]
    }
   ],
   "source": [
    "using CSV"
   ]
  },
  {
   "cell_type": "code",
   "execution_count": 5,
   "metadata": {
    "collapsed": true
   },
   "outputs": [
    {
     "data": {
      "text/html": [
       "<table class=\"data-frame\"><thead><tr><th></th><th>Car_Name</th><th>Year</th><th>Selling_Price</th><th>Present_Price</th><th>Kms_Driven</th><th>Fuel_Type</th><th>Seller_Type</th></tr><tr><th></th><th>String</th><th>Int64</th><th>Float64</th><th>Float64</th><th>Int64</th><th>String</th><th>String</th></tr></thead><tbody><p>301 rows × 9 columns (omitted printing of 2 columns)</p><tr><th>1</th><td>ritz</td><td>2014</td><td>3.35</td><td>5.59</td><td>27000</td><td>Petrol</td><td>Dealer</td></tr><tr><th>2</th><td>sx4</td><td>2013</td><td>4.75</td><td>9.54</td><td>43000</td><td>Diesel</td><td>Dealer</td></tr><tr><th>3</th><td>ciaz</td><td>2017</td><td>7.25</td><td>9.85</td><td>6900</td><td>Petrol</td><td>Dealer</td></tr><tr><th>4</th><td>wagon r</td><td>2011</td><td>2.85</td><td>4.15</td><td>5200</td><td>Petrol</td><td>Dealer</td></tr><tr><th>5</th><td>swift</td><td>2014</td><td>4.6</td><td>6.87</td><td>42450</td><td>Diesel</td><td>Dealer</td></tr><tr><th>6</th><td>vitara brezza</td><td>2018</td><td>9.25</td><td>9.83</td><td>2071</td><td>Diesel</td><td>Dealer</td></tr><tr><th>7</th><td>ciaz</td><td>2015</td><td>6.75</td><td>8.12</td><td>18796</td><td>Petrol</td><td>Dealer</td></tr><tr><th>8</th><td>s cross</td><td>2015</td><td>6.5</td><td>8.61</td><td>33429</td><td>Diesel</td><td>Dealer</td></tr><tr><th>9</th><td>ciaz</td><td>2016</td><td>8.75</td><td>8.89</td><td>20273</td><td>Diesel</td><td>Dealer</td></tr><tr><th>10</th><td>ciaz</td><td>2015</td><td>7.45</td><td>8.92</td><td>42367</td><td>Diesel</td><td>Dealer</td></tr><tr><th>11</th><td>alto 800</td><td>2017</td><td>2.85</td><td>3.6</td><td>2135</td><td>Petrol</td><td>Dealer</td></tr><tr><th>12</th><td>ciaz</td><td>2015</td><td>6.85</td><td>10.38</td><td>51000</td><td>Diesel</td><td>Dealer</td></tr><tr><th>13</th><td>ciaz</td><td>2015</td><td>7.5</td><td>9.94</td><td>15000</td><td>Petrol</td><td>Dealer</td></tr><tr><th>14</th><td>ertiga</td><td>2015</td><td>6.1</td><td>7.71</td><td>26000</td><td>Petrol</td><td>Dealer</td></tr><tr><th>15</th><td>dzire</td><td>2009</td><td>2.25</td><td>7.21</td><td>77427</td><td>Petrol</td><td>Dealer</td></tr><tr><th>16</th><td>ertiga</td><td>2016</td><td>7.75</td><td>10.79</td><td>43000</td><td>Diesel</td><td>Dealer</td></tr><tr><th>17</th><td>ertiga</td><td>2015</td><td>7.25</td><td>10.79</td><td>41678</td><td>Diesel</td><td>Dealer</td></tr><tr><th>18</th><td>ertiga</td><td>2016</td><td>7.75</td><td>10.79</td><td>43000</td><td>Diesel</td><td>Dealer</td></tr><tr><th>19</th><td>wagon r</td><td>2015</td><td>3.25</td><td>5.09</td><td>35500</td><td>CNG</td><td>Dealer</td></tr><tr><th>20</th><td>sx4</td><td>2010</td><td>2.65</td><td>7.98</td><td>41442</td><td>Petrol</td><td>Dealer</td></tr><tr><th>21</th><td>alto k10</td><td>2016</td><td>2.85</td><td>3.95</td><td>25000</td><td>Petrol</td><td>Dealer</td></tr><tr><th>22</th><td>ignis</td><td>2017</td><td>4.9</td><td>5.71</td><td>2400</td><td>Petrol</td><td>Dealer</td></tr><tr><th>23</th><td>sx4</td><td>2011</td><td>4.4</td><td>8.01</td><td>50000</td><td>Petrol</td><td>Dealer</td></tr><tr><th>24</th><td>alto k10</td><td>2014</td><td>2.5</td><td>3.46</td><td>45280</td><td>Petrol</td><td>Dealer</td></tr><tr><th>25</th><td>wagon r</td><td>2013</td><td>2.9</td><td>4.41</td><td>56879</td><td>Petrol</td><td>Dealer</td></tr><tr><th>26</th><td>swift</td><td>2011</td><td>3.0</td><td>4.99</td><td>20000</td><td>Petrol</td><td>Dealer</td></tr><tr><th>27</th><td>swift</td><td>2013</td><td>4.15</td><td>5.87</td><td>55138</td><td>Petrol</td><td>Dealer</td></tr><tr><th>28</th><td>swift</td><td>2017</td><td>6.0</td><td>6.49</td><td>16200</td><td>Petrol</td><td>Individual</td></tr><tr><th>29</th><td>alto k10</td><td>2010</td><td>1.95</td><td>3.95</td><td>44542</td><td>Petrol</td><td>Dealer</td></tr><tr><th>30</th><td>ciaz</td><td>2015</td><td>7.45</td><td>10.38</td><td>45000</td><td>Diesel</td><td>Dealer</td></tr><tr><th>&vellip;</th><td>&vellip;</td><td>&vellip;</td><td>&vellip;</td><td>&vellip;</td><td>&vellip;</td><td>&vellip;</td><td>&vellip;</td></tr></tbody></table>"
      ],
      "text/latex": [
       "\\begin{tabular}{r|cccccccc}\n",
       "\t& Car\\_Name & Year & Selling\\_Price & Present\\_Price & Kms\\_Driven & Fuel\\_Type & Seller\\_Type & \\\\\n",
       "\t\\hline\n",
       "\t& String & Int64 & Float64 & Float64 & Int64 & String & String & \\\\\n",
       "\t\\hline\n",
       "\t1 & ritz & 2014 & 3.35 & 5.59 & 27000 & Petrol & Dealer & $\\dots$ \\\\\n",
       "\t2 & sx4 & 2013 & 4.75 & 9.54 & 43000 & Diesel & Dealer & $\\dots$ \\\\\n",
       "\t3 & ciaz & 2017 & 7.25 & 9.85 & 6900 & Petrol & Dealer & $\\dots$ \\\\\n",
       "\t4 & wagon r & 2011 & 2.85 & 4.15 & 5200 & Petrol & Dealer & $\\dots$ \\\\\n",
       "\t5 & swift & 2014 & 4.6 & 6.87 & 42450 & Diesel & Dealer & $\\dots$ \\\\\n",
       "\t6 & vitara brezza & 2018 & 9.25 & 9.83 & 2071 & Diesel & Dealer & $\\dots$ \\\\\n",
       "\t7 & ciaz & 2015 & 6.75 & 8.12 & 18796 & Petrol & Dealer & $\\dots$ \\\\\n",
       "\t8 & s cross & 2015 & 6.5 & 8.61 & 33429 & Diesel & Dealer & $\\dots$ \\\\\n",
       "\t9 & ciaz & 2016 & 8.75 & 8.89 & 20273 & Diesel & Dealer & $\\dots$ \\\\\n",
       "\t10 & ciaz & 2015 & 7.45 & 8.92 & 42367 & Diesel & Dealer & $\\dots$ \\\\\n",
       "\t11 & alto 800 & 2017 & 2.85 & 3.6 & 2135 & Petrol & Dealer & $\\dots$ \\\\\n",
       "\t12 & ciaz & 2015 & 6.85 & 10.38 & 51000 & Diesel & Dealer & $\\dots$ \\\\\n",
       "\t13 & ciaz & 2015 & 7.5 & 9.94 & 15000 & Petrol & Dealer & $\\dots$ \\\\\n",
       "\t14 & ertiga & 2015 & 6.1 & 7.71 & 26000 & Petrol & Dealer & $\\dots$ \\\\\n",
       "\t15 & dzire & 2009 & 2.25 & 7.21 & 77427 & Petrol & Dealer & $\\dots$ \\\\\n",
       "\t16 & ertiga & 2016 & 7.75 & 10.79 & 43000 & Diesel & Dealer & $\\dots$ \\\\\n",
       "\t17 & ertiga & 2015 & 7.25 & 10.79 & 41678 & Diesel & Dealer & $\\dots$ \\\\\n",
       "\t18 & ertiga & 2016 & 7.75 & 10.79 & 43000 & Diesel & Dealer & $\\dots$ \\\\\n",
       "\t19 & wagon r & 2015 & 3.25 & 5.09 & 35500 & CNG & Dealer & $\\dots$ \\\\\n",
       "\t20 & sx4 & 2010 & 2.65 & 7.98 & 41442 & Petrol & Dealer & $\\dots$ \\\\\n",
       "\t21 & alto k10 & 2016 & 2.85 & 3.95 & 25000 & Petrol & Dealer & $\\dots$ \\\\\n",
       "\t22 & ignis & 2017 & 4.9 & 5.71 & 2400 & Petrol & Dealer & $\\dots$ \\\\\n",
       "\t23 & sx4 & 2011 & 4.4 & 8.01 & 50000 & Petrol & Dealer & $\\dots$ \\\\\n",
       "\t24 & alto k10 & 2014 & 2.5 & 3.46 & 45280 & Petrol & Dealer & $\\dots$ \\\\\n",
       "\t25 & wagon r & 2013 & 2.9 & 4.41 & 56879 & Petrol & Dealer & $\\dots$ \\\\\n",
       "\t26 & swift & 2011 & 3.0 & 4.99 & 20000 & Petrol & Dealer & $\\dots$ \\\\\n",
       "\t27 & swift & 2013 & 4.15 & 5.87 & 55138 & Petrol & Dealer & $\\dots$ \\\\\n",
       "\t28 & swift & 2017 & 6.0 & 6.49 & 16200 & Petrol & Individual & $\\dots$ \\\\\n",
       "\t29 & alto k10 & 2010 & 1.95 & 3.95 & 44542 & Petrol & Dealer & $\\dots$ \\\\\n",
       "\t30 & ciaz & 2015 & 7.45 & 10.38 & 45000 & Diesel & Dealer & $\\dots$ \\\\\n",
       "\t$\\dots$ & $\\dots$ & $\\dots$ & $\\dots$ & $\\dots$ & $\\dots$ & $\\dots$ & $\\dots$ &  \\\\\n",
       "\\end{tabular}\n"
      ],
      "text/plain": [
       "301×9 DataFrame. Omitted printing of 4 columns\n",
       "│ Row │ Car_Name      │ Year  │ Selling_Price │ Present_Price │ Kms_Driven │\n",
       "│     │ \u001b[90mString\u001b[39m        │ \u001b[90mInt64\u001b[39m │ \u001b[90mFloat64\u001b[39m       │ \u001b[90mFloat64\u001b[39m       │ \u001b[90mInt64\u001b[39m      │\n",
       "├─────┼───────────────┼───────┼───────────────┼───────────────┼────────────┤\n",
       "│ 1   │ ritz          │ 2014  │ 3.35          │ 5.59          │ 27000      │\n",
       "│ 2   │ sx4           │ 2013  │ 4.75          │ 9.54          │ 43000      │\n",
       "│ 3   │ ciaz          │ 2017  │ 7.25          │ 9.85          │ 6900       │\n",
       "│ 4   │ wagon r       │ 2011  │ 2.85          │ 4.15          │ 5200       │\n",
       "│ 5   │ swift         │ 2014  │ 4.6           │ 6.87          │ 42450      │\n",
       "│ 6   │ vitara brezza │ 2018  │ 9.25          │ 9.83          │ 2071       │\n",
       "│ 7   │ ciaz          │ 2015  │ 6.75          │ 8.12          │ 18796      │\n",
       "│ 8   │ s cross       │ 2015  │ 6.5           │ 8.61          │ 33429      │\n",
       "│ 9   │ ciaz          │ 2016  │ 8.75          │ 8.89          │ 20273      │\n",
       "│ 10  │ ciaz          │ 2015  │ 7.45          │ 8.92          │ 42367      │\n",
       "⋮\n",
       "│ 291 │ amaze         │ 2014  │ 4.5           │ 6.4           │ 19000      │\n",
       "│ 292 │ brio          │ 2015  │ 5.4           │ 6.1           │ 31427      │\n",
       "│ 293 │ jazz          │ 2016  │ 6.4           │ 8.4           │ 12000      │\n",
       "│ 294 │ city          │ 2010  │ 3.25          │ 9.9           │ 38000      │\n",
       "│ 295 │ amaze         │ 2014  │ 3.75          │ 6.8           │ 33019      │\n",
       "│ 296 │ city          │ 2015  │ 8.55          │ 13.09         │ 60076      │\n",
       "│ 297 │ city          │ 2016  │ 9.5           │ 11.6          │ 33988      │\n",
       "│ 298 │ brio          │ 2015  │ 4.0           │ 5.9           │ 60000      │\n",
       "│ 299 │ city          │ 2009  │ 3.35          │ 11.0          │ 87934      │\n",
       "│ 300 │ city          │ 2017  │ 11.5          │ 12.5          │ 9000       │\n",
       "│ 301 │ brio          │ 2016  │ 5.3           │ 5.9           │ 5464       │"
      ]
     },
     "execution_count": 5,
     "metadata": {},
     "output_type": "execute_result"
    }
   ],
   "source": [
    "data=CSV.read(\"car data.csv\")"
   ]
  },
  {
   "cell_type": "code",
   "execution_count": 7,
   "metadata": {},
   "outputs": [
    {
     "data": {
      "text/plain": [
       "9-element Array{String,1}:\n",
       " \"Car_Name\"\n",
       " \"Year\"\n",
       " \"Selling_Price\"\n",
       " \"Present_Price\"\n",
       " \"Kms_Driven\"\n",
       " \"Fuel_Type\"\n",
       " \"Seller_Type\"\n",
       " \"Transmission\"\n",
       " \"Owner\""
      ]
     },
     "execution_count": 7,
     "metadata": {},
     "output_type": "execute_result"
    }
   ],
   "source": [
    "names(data)"
   ]
  },
  {
   "cell_type": "code",
   "execution_count": 8,
   "metadata": {},
   "outputs": [
    {
     "data": {
      "text/plain": [
       "(301, 9)"
      ]
     },
     "execution_count": 8,
     "metadata": {},
     "output_type": "execute_result"
    }
   ],
   "source": [
    "size(data)"
   ]
  }
 ],
 "metadata": {
  "kernelspec": {
   "display_name": "Julia 1.5.2",
   "language": "julia",
   "name": "julia-1.5"
  },
  "language_info": {
   "file_extension": ".jl",
   "mimetype": "application/julia",
   "name": "julia",
   "version": "1.5.2"
  }
 },
 "nbformat": 4,
 "nbformat_minor": 4
}
